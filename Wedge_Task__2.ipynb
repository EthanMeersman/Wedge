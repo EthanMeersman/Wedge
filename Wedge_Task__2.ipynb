{
 "cells": [
  {
   "cell_type": "code",
   "execution_count": 26,
   "id": "47914e55",
   "metadata": {},
   "outputs": [],
   "source": [
    "## I uploaded the data manually ##"
   ]
  },
  {
   "cell_type": "code",
   "execution_count": 16,
   "id": "318decd8",
   "metadata": {},
   "outputs": [],
   "source": [
    "import os\n",
    "import random \n",
    "from google.cloud import bigquery\n",
    "from google.oauth2 import service_account\n",
    "import datetime\n",
    "import csv\n",
    "import sqlite3"
   ]
  },
  {
   "cell_type": "code",
   "execution_count": 17,
   "id": "f89b98f0",
   "metadata": {},
   "outputs": [],
   "source": [
    "service_path = \"/Users/ethanmeersman/ADA/wedge project/clean-wedge-files\"\n",
    "service_file =  '/wedge project/clean-wedge-files-b559ec63983a.json'\n",
    "gbq_proj_id = 'clean-wedge-files'\n",
    "gbq_dataset_id = 'Clean_Wedge'\n",
    "\n",
    "credentials = service_account.Credentials.from_service_account_file(\"/Users/ethanmeersman/ADA/wedge project/clean-wedge-files-b559ec63983a.json\")\n",
    "\n",
    "client = bigquery.Client(credentials = credentials, project=gbq_proj_id)"
   ]
  },
  {
   "cell_type": "code",
   "execution_count": 18,
   "id": "c3c9c062",
   "metadata": {},
   "outputs": [],
   "source": [
    "query = (\n",
    "    \"SELECT DISTINCT int64_field_45 \"\n",
    "    \"FROM `clean-wedge-files.Clean_Wedge.wedge_*` \"\n",
    "    \"WHERE int64_field_45!=3 \"\n",
    ")\n",
    "\n",
    "query_job = client.query(query,location = \"US\",)"
   ]
  },
  {
   "cell_type": "code",
   "execution_count": 24,
   "id": "7cded232",
   "metadata": {},
   "outputs": [
    {
     "data": {
      "text/plain": [
       "27163"
      ]
     },
     "execution_count": 24,
     "metadata": {},
     "output_type": "execute_result"
    }
   ],
   "source": [
    "len(list(query_job))"
   ]
  },
  {
   "cell_type": "code",
   "execution_count": 20,
   "id": "9c11afa9",
   "metadata": {},
   "outputs": [],
   "source": [
    "owners = []\n",
    "\n",
    "for owner in query_job :\n",
    "    owners.append(owner[0])\n",
    "\n",
    "sample = random.choices(owners, k=100)\n",
    "new_sample = list(sample)"
   ]
  },
  {
   "cell_type": "code",
   "execution_count": 21,
   "id": "8005b680",
   "metadata": {},
   "outputs": [],
   "source": [
    "query = (\n",
    "    \"SELECT * \"\n",
    "    \"FROM `clean-wedge-files.Clean_Wedge.wedge_*` \"\n",
    "    \"WHERE int64_field_45 in ( \"\n",
    ")\n",
    "\n",
    "for card in sample:\n",
    "    query += str(card) + \", \"\n",
    "query = query[:-2] + ')'\n",
    "\n",
    "results = client.query(\n",
    "    query,\n",
    "    location=\"US\",\n",
    ")"
   ]
  },
  {
   "cell_type": "code",
   "execution_count": 22,
   "id": "57dbdf97",
   "metadata": {},
   "outputs": [],
   "source": [
    "headers = [\"datetime\",\"register_no\",\"emp_no\",\"trans_no\",\"upc\",\"description\",\"trans_type\",\"trans_subtype\",\"trans_status\",\"department\",\"quantity\",\"Scale\",\"cost\",\"unitPrice\",\"total\",\"regPrice\",\"altPrice\",\"tax\",\"taxexempt\",\"foodstamp\",\"wicable\",\"discount\",\"memDiscount\",\"discountable\",\"discounttype\",\"voided\",\"percentDiscount\",\"ItemQtty\",\"volDiscType\",\"volume\",\"VolSpecial\",\"mixMatch\",\"matched\",\"memType\",\"staff\",\"numflag\",\"itemstatus\",\"tenderstatus\",\"charflag\",\"varflag\",\"batchHeaderID\",\"local\",\"organic\",\"display\",\"receipt\",\"card_no\",\"store\",\"branch\",\"match_id\",\"trans_id\"]"
   ]
  },
  {
   "cell_type": "code",
   "execution_count": 23,
   "id": "97dcc579",
   "metadata": {},
   "outputs": [],
   "source": [
    "with open('sample_owners.txt', 'w') as outfile :\n",
    "    outfile.write(','.join(headers) + \"\\n\") \n",
    "    for line in results :\n",
    "        row = [str(item) for item in line]\n",
    "        outfile.write(\",\".join(row) + \"\\n\")"
   ]
  }
 ],
 "metadata": {
  "kernelspec": {
   "display_name": "Python 3",
   "language": "python",
   "name": "python3"
  },
  "language_info": {
   "codemirror_mode": {
    "name": "ipython",
    "version": 3
   },
   "file_extension": ".py",
   "mimetype": "text/x-python",
   "name": "python",
   "nbconvert_exporter": "python",
   "pygments_lexer": "ipython3",
   "version": "3.8.8"
  }
 },
 "nbformat": 4,
 "nbformat_minor": 5
}
