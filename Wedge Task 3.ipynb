{
 "cells": [
  {
   "cell_type": "code",
   "execution_count": 1,
   "id": "3fd4411e",
   "metadata": {},
   "outputs": [],
   "source": [
    "### Task 3 ###\n",
    "\n",
    "from google.cloud import bigquery\n",
    "from google.oauth2 import service_account\n",
    "import sqlite3\n",
    "import pandas as pd\n",
    "import pandas_gbq\n",
    "\n",
    "service_path = \"/Users/ethanmeersman/ADA/wedge project/clean-wedge-files\"\n",
    "service_file =  '/wedge project/clean-wedge-files-b559ec63983a.json'\n",
    "gbq_proj_id = 'clean-wedge-files'\n",
    "gbq_dataset_id = 'Clean_Wedge'\n",
    "\n",
    "credentials = service_account.Credentials.from_service_account_file(\"/Users/ethanmeersman/ADA/wedge project/clean-wedge-files-b559ec63983a.json\")\n",
    "\n",
    "client = bigquery.Client(credentials = credentials, project=gbq_proj_id)"
   ]
  },
  {
   "cell_type": "code",
   "execution_count": 2,
   "id": "379c672e",
   "metadata": {},
   "outputs": [],
   "source": [
    "import sqlite3\n",
    "db = sqlite3.connect(\"WEDGEE.db\")\n",
    "cur = db.cursor()"
   ]
  },
  {
   "cell_type": "code",
   "execution_count": 11,
   "id": "18a50d8e",
   "metadata": {},
   "outputs": [],
   "source": [
    "# Query for question 1 (sales by date by hour):\n",
    "\n",
    "query_one = \"\"\"\n",
    "SELECT\n",
    "  EXTRACT(DATE\n",
    "  FROM\n",
    "    PARSE_TIMESTAMP('%Y-%m-%d %H:%M:%S %Z', STRING(timestamp_field_0))) AS date,\n",
    "  EXTRACT(HOUR\n",
    "  FROM\n",
    "    PARSE_TIMESTAMP('%Y-%m-%d %H:%M:%S %Z', STRING(timestamp_field_0))) AS hour,\n",
    "  SUM(double_field_14) AS total_spend,\n",
    "  count(distinct(date(timestamp_field_0) || int64_field_1 || int64_field_2 || int64_field_3)) as num_trans,\n",
    "  sum(CASE WHEN (string_field_8 = 'V' or string_field_8 = 'R') THEN -1 ELSE 1 END) as num_items\n",
    "FROM\n",
    "  `clean-wedge-files.Clean_Wedge.wedge_*`\n",
    "WHERE int64_field_9 != 0 and\n",
    "      int64_field_9 != 15 and\n",
    "      string_field_8 != 'M' and\n",
    "      string_field_8 != 'C' and\n",
    "      string_field_8 != 'J' and\n",
    "      (string_field_8 = '' or \n",
    "      string_field_8 = ' ' or \n",
    "      string_field_8 = 'V' or \n",
    "      string_field_8 = 'R')\n",
    "GROUP BY\n",
    "  date,\n",
    "  hour\n",
    "ORDER BY\n",
    "  date ASC,\n",
    "  hour ASC\n",
    "\"\"\""
   ]
  },
  {
   "cell_type": "code",
   "execution_count": 12,
   "id": "e2bb6522",
   "metadata": {},
   "outputs": [],
   "source": [
    "df_one = (\n",
    "    client.query(query_one)\n",
    "    .result()\n",
    "    .to_dataframe(\n",
    "        create_bqstorage_client=True,\n",
    "    )\n",
    ")\n",
    "\n",
    "# Open connection to (and create) database\n",
    "db = sqlite3.connect(\"WEDGEE.db\")\n",
    "\n",
    "# Export pandas dataframe to database\n",
    "df_one.to_sql(\"sales_date_hour\", db, if_exists=\"replace\")\n",
    "\n",
    "# Close database\n",
    "db.close()"
   ]
  },
  {
   "cell_type": "code",
   "execution_count": 13,
   "id": "3928a142",
   "metadata": {},
   "outputs": [],
   "source": [
    "# Query for question 2 (sales by owner by month):\n",
    "\n",
    "query_two = \"\"\"\n",
    "SELECT\n",
    "  int64_field_45,\n",
    "  EXTRACT(YEAR\n",
    "  FROM\n",
    "    PARSE_TIMESTAMP('%Y-%m-%d %H:%M:%S %Z', STRING(timestamp_field_0))) AS year,\n",
    "  EXTRACT(MONTH\n",
    "  FROM\n",
    "    PARSE_TIMESTAMP('%Y-%m-%d %H:%M:%S %Z', STRING(timestamp_field_0))) AS month,\n",
    "  SUM(double_field_14) AS sales,\n",
    "  count(distinct(date(double_field_14) || int64_field_1 || int64_field_2 || int64_field_3)) as transactions,\n",
    "  sum(CASE WHEN (string_field_8 = 'V' or string_field_8 = 'R') THEN -1 ELSE 1 END) as items\n",
    "FROM\n",
    "  `clean-wedge-files.Clean_Wedge.wedge_*`\n",
    "WHERE int64_field_9 != 0 and\n",
    "      int64_field_9 != 15 and\n",
    "      string_field_8 != 'M' and\n",
    "      string_field_8 != 'C' and\n",
    "      string_field_8 != 'J' and\n",
    "      (string_field_8 = '' or \n",
    "      string_field_8 = ' ' or \n",
    "      string_field_8 = 'V' or \n",
    "      string_field_8 = 'R')\n",
    "GROUP BY\n",
    "  card_no,\n",
    "  year,\n",
    "  month\n",
    "ORDER BY\n",
    " card_no,\n",
    "  year ASC,\n",
    "  month ASC\n",
    "\"\"\""
   ]
  },
  {
   "cell_type": "code",
   "execution_count": 14,
   "id": "c03ec294",
   "metadata": {},
   "outputs": [
    {
     "ename": "BadRequest",
     "evalue": "400 No matching signature for function DATE for argument types: FLOAT64. Supported signatures: DATE(TIMESTAMP, [STRING]); DATE(DATETIME); DATE(INT64, INT64, INT64); DATE(DATE); DATE(STRING) at [11:18]\n\n(job ID: b04f8b86-0c67-4c69-89f8-616d09fcb037)\n\n                                         -----Query Job SQL Follows-----                                         \n\n    |    .    |    .    |    .    |    .    |    .    |    .    |    .    |    .    |    .    |    .    |\n   1:\n   2:SELECT\n   3:  int64_field_45,\n   4:  EXTRACT(YEAR\n   5:  FROM\n   6:    PARSE_TIMESTAMP('%Y-%m-%d %H:%M:%S %Z', STRING(timestamp_field_0))) AS year,\n   7:  EXTRACT(MONTH\n   8:  FROM\n   9:    PARSE_TIMESTAMP('%Y-%m-%d %H:%M:%S %Z', STRING(timestamp_field_0))) AS month,\n  10:  SUM(double_field_14) AS sales,\n  11:  count(distinct(date(double_field_14) || int64_field_1 || int64_field_2 || int64_field_3)) as transactions,\n  12:  sum(CASE WHEN (string_field_8 = 'V' or string_field_8 = 'R') THEN -1 ELSE 1 END) as items\n  13:FROM\n  14:  `clean-wedge-files.Clean_Wedge.wedge_*`\n  15:WHERE int64_field_9 != 0 and\n  16:      int64_field_9 != 15 and\n  17:      string_field_8 != 'M' and\n  18:      string_field_8 != 'C' and\n  19:      string_field_8 != 'J' and\n  20:      (string_field_8 = '' or \n  21:      string_field_8 = ' ' or \n  22:      string_field_8 = 'V' or \n  23:      string_field_8 = 'R')\n  24:GROUP BY\n  25:  card_no,\n  26:  year,\n  27:  month\n  28:ORDER BY\n  29: card_no,\n  30:  year ASC,\n  31:  month ASC\n    |    .    |    .    |    .    |    .    |    .    |    .    |    .    |    .    |    .    |    .    |",
     "output_type": "error",
     "traceback": [
      "\u001b[0;31m---------------------------------------------------------------------------\u001b[0m",
      "\u001b[0;31mBadRequest\u001b[0m                                Traceback (most recent call last)",
      "\u001b[0;32m<ipython-input-14-de20ee7b8821>\u001b[0m in \u001b[0;36m<module>\u001b[0;34m\u001b[0m\n\u001b[1;32m      1\u001b[0m \u001b[0;31m# Send query to GBQ and export results as pandas data frame\u001b[0m\u001b[0;34m\u001b[0m\u001b[0;34m\u001b[0m\u001b[0;34m\u001b[0m\u001b[0m\n\u001b[1;32m      2\u001b[0m df_two = (\n\u001b[0;32m----> 3\u001b[0;31m     \u001b[0mclient\u001b[0m\u001b[0;34m.\u001b[0m\u001b[0mquery\u001b[0m\u001b[0;34m(\u001b[0m\u001b[0mquery_two\u001b[0m\u001b[0;34m)\u001b[0m\u001b[0;34m\u001b[0m\u001b[0;34m\u001b[0m\u001b[0m\n\u001b[0m\u001b[1;32m      4\u001b[0m     \u001b[0;34m.\u001b[0m\u001b[0mresult\u001b[0m\u001b[0;34m(\u001b[0m\u001b[0;34m)\u001b[0m\u001b[0;34m\u001b[0m\u001b[0;34m\u001b[0m\u001b[0m\n\u001b[1;32m      5\u001b[0m     .to_dataframe(\n",
      "\u001b[0;32m~/Desktop/anaconda3/lib/python3.8/site-packages/google/cloud/bigquery/job/query.py\u001b[0m in \u001b[0;36mresult\u001b[0;34m(self, page_size, max_results, retry, timeout, start_index, job_retry)\u001b[0m\n\u001b[1;32m   1448\u001b[0m                 \u001b[0mdo_get_result\u001b[0m \u001b[0;34m=\u001b[0m \u001b[0mjob_retry\u001b[0m\u001b[0;34m(\u001b[0m\u001b[0mdo_get_result\u001b[0m\u001b[0;34m)\u001b[0m\u001b[0;34m\u001b[0m\u001b[0;34m\u001b[0m\u001b[0m\n\u001b[1;32m   1449\u001b[0m \u001b[0;34m\u001b[0m\u001b[0m\n\u001b[0;32m-> 1450\u001b[0;31m             \u001b[0mdo_get_result\u001b[0m\u001b[0;34m(\u001b[0m\u001b[0;34m)\u001b[0m\u001b[0;34m\u001b[0m\u001b[0;34m\u001b[0m\u001b[0m\n\u001b[0m\u001b[1;32m   1451\u001b[0m \u001b[0;34m\u001b[0m\u001b[0m\n\u001b[1;32m   1452\u001b[0m         \u001b[0;32mexcept\u001b[0m \u001b[0mexceptions\u001b[0m\u001b[0;34m.\u001b[0m\u001b[0mGoogleAPICallError\u001b[0m \u001b[0;32mas\u001b[0m \u001b[0mexc\u001b[0m\u001b[0;34m:\u001b[0m\u001b[0;34m\u001b[0m\u001b[0;34m\u001b[0m\u001b[0m\n",
      "\u001b[0;32m~/Desktop/anaconda3/lib/python3.8/site-packages/google/api_core/retry.py\u001b[0m in \u001b[0;36mretry_wrapped_func\u001b[0;34m(*args, **kwargs)\u001b[0m\n\u001b[1;32m    281\u001b[0m                 \u001b[0mself\u001b[0m\u001b[0;34m.\u001b[0m\u001b[0m_initial\u001b[0m\u001b[0;34m,\u001b[0m \u001b[0mself\u001b[0m\u001b[0;34m.\u001b[0m\u001b[0m_maximum\u001b[0m\u001b[0;34m,\u001b[0m \u001b[0mmultiplier\u001b[0m\u001b[0;34m=\u001b[0m\u001b[0mself\u001b[0m\u001b[0;34m.\u001b[0m\u001b[0m_multiplier\u001b[0m\u001b[0;34m\u001b[0m\u001b[0;34m\u001b[0m\u001b[0m\n\u001b[1;32m    282\u001b[0m             )\n\u001b[0;32m--> 283\u001b[0;31m             return retry_target(\n\u001b[0m\u001b[1;32m    284\u001b[0m                 \u001b[0mtarget\u001b[0m\u001b[0;34m,\u001b[0m\u001b[0;34m\u001b[0m\u001b[0;34m\u001b[0m\u001b[0m\n\u001b[1;32m    285\u001b[0m                 \u001b[0mself\u001b[0m\u001b[0;34m.\u001b[0m\u001b[0m_predicate\u001b[0m\u001b[0;34m,\u001b[0m\u001b[0;34m\u001b[0m\u001b[0;34m\u001b[0m\u001b[0m\n",
      "\u001b[0;32m~/Desktop/anaconda3/lib/python3.8/site-packages/google/api_core/retry.py\u001b[0m in \u001b[0;36mretry_target\u001b[0;34m(target, predicate, sleep_generator, deadline, on_error)\u001b[0m\n\u001b[1;32m    188\u001b[0m     \u001b[0;32mfor\u001b[0m \u001b[0msleep\u001b[0m \u001b[0;32min\u001b[0m \u001b[0msleep_generator\u001b[0m\u001b[0;34m:\u001b[0m\u001b[0;34m\u001b[0m\u001b[0;34m\u001b[0m\u001b[0m\n\u001b[1;32m    189\u001b[0m         \u001b[0;32mtry\u001b[0m\u001b[0;34m:\u001b[0m\u001b[0;34m\u001b[0m\u001b[0;34m\u001b[0m\u001b[0m\n\u001b[0;32m--> 190\u001b[0;31m             \u001b[0;32mreturn\u001b[0m \u001b[0mtarget\u001b[0m\u001b[0;34m(\u001b[0m\u001b[0;34m)\u001b[0m\u001b[0;34m\u001b[0m\u001b[0;34m\u001b[0m\u001b[0m\n\u001b[0m\u001b[1;32m    191\u001b[0m \u001b[0;34m\u001b[0m\u001b[0m\n\u001b[1;32m    192\u001b[0m         \u001b[0;31m# pylint: disable=broad-except\u001b[0m\u001b[0;34m\u001b[0m\u001b[0;34m\u001b[0m\u001b[0;34m\u001b[0m\u001b[0m\n",
      "\u001b[0;32m~/Desktop/anaconda3/lib/python3.8/site-packages/google/cloud/bigquery/job/query.py\u001b[0m in \u001b[0;36mdo_get_result\u001b[0;34m()\u001b[0m\n\u001b[1;32m   1438\u001b[0m                     \u001b[0mself\u001b[0m\u001b[0;34m.\u001b[0m\u001b[0m_job_retry\u001b[0m \u001b[0;34m=\u001b[0m \u001b[0mjob_retry\u001b[0m\u001b[0;34m\u001b[0m\u001b[0;34m\u001b[0m\u001b[0m\n\u001b[1;32m   1439\u001b[0m \u001b[0;34m\u001b[0m\u001b[0m\n\u001b[0;32m-> 1440\u001b[0;31m                 \u001b[0msuper\u001b[0m\u001b[0;34m(\u001b[0m\u001b[0mQueryJob\u001b[0m\u001b[0;34m,\u001b[0m \u001b[0mself\u001b[0m\u001b[0;34m)\u001b[0m\u001b[0;34m.\u001b[0m\u001b[0mresult\u001b[0m\u001b[0;34m(\u001b[0m\u001b[0mretry\u001b[0m\u001b[0;34m=\u001b[0m\u001b[0mretry\u001b[0m\u001b[0;34m,\u001b[0m \u001b[0mtimeout\u001b[0m\u001b[0;34m=\u001b[0m\u001b[0mtimeout\u001b[0m\u001b[0;34m)\u001b[0m\u001b[0;34m\u001b[0m\u001b[0;34m\u001b[0m\u001b[0m\n\u001b[0m\u001b[1;32m   1441\u001b[0m \u001b[0;34m\u001b[0m\u001b[0m\n\u001b[1;32m   1442\u001b[0m                 \u001b[0;31m# Since the job could already be \"done\" (e.g. got a finished job\u001b[0m\u001b[0;34m\u001b[0m\u001b[0;34m\u001b[0m\u001b[0;34m\u001b[0m\u001b[0m\n",
      "\u001b[0;32m~/Desktop/anaconda3/lib/python3.8/site-packages/google/cloud/bigquery/job/base.py\u001b[0m in \u001b[0;36mresult\u001b[0;34m(self, retry, timeout)\u001b[0m\n\u001b[1;32m    725\u001b[0m \u001b[0;34m\u001b[0m\u001b[0m\n\u001b[1;32m    726\u001b[0m         \u001b[0mkwargs\u001b[0m \u001b[0;34m=\u001b[0m \u001b[0;34m{\u001b[0m\u001b[0;34m}\u001b[0m \u001b[0;32mif\u001b[0m \u001b[0mretry\u001b[0m \u001b[0;32mis\u001b[0m \u001b[0mDEFAULT_RETRY\u001b[0m \u001b[0;32melse\u001b[0m \u001b[0;34m{\u001b[0m\u001b[0;34m\"retry\"\u001b[0m\u001b[0;34m:\u001b[0m \u001b[0mretry\u001b[0m\u001b[0;34m}\u001b[0m\u001b[0;34m\u001b[0m\u001b[0;34m\u001b[0m\u001b[0m\n\u001b[0;32m--> 727\u001b[0;31m         \u001b[0;32mreturn\u001b[0m \u001b[0msuper\u001b[0m\u001b[0;34m(\u001b[0m\u001b[0m_AsyncJob\u001b[0m\u001b[0;34m,\u001b[0m \u001b[0mself\u001b[0m\u001b[0;34m)\u001b[0m\u001b[0;34m.\u001b[0m\u001b[0mresult\u001b[0m\u001b[0;34m(\u001b[0m\u001b[0mtimeout\u001b[0m\u001b[0;34m=\u001b[0m\u001b[0mtimeout\u001b[0m\u001b[0;34m,\u001b[0m \u001b[0;34m**\u001b[0m\u001b[0mkwargs\u001b[0m\u001b[0;34m)\u001b[0m\u001b[0;34m\u001b[0m\u001b[0;34m\u001b[0m\u001b[0m\n\u001b[0m\u001b[1;32m    728\u001b[0m \u001b[0;34m\u001b[0m\u001b[0m\n\u001b[1;32m    729\u001b[0m     \u001b[0;32mdef\u001b[0m \u001b[0mcancelled\u001b[0m\u001b[0;34m(\u001b[0m\u001b[0mself\u001b[0m\u001b[0;34m)\u001b[0m\u001b[0;34m:\u001b[0m\u001b[0;34m\u001b[0m\u001b[0;34m\u001b[0m\u001b[0m\n",
      "\u001b[0;32m~/Desktop/anaconda3/lib/python3.8/site-packages/google/api_core/future/polling.py\u001b[0m in \u001b[0;36mresult\u001b[0;34m(self, timeout, retry)\u001b[0m\n\u001b[1;32m    135\u001b[0m             \u001b[0;31m# pylint: disable=raising-bad-type\u001b[0m\u001b[0;34m\u001b[0m\u001b[0;34m\u001b[0m\u001b[0;34m\u001b[0m\u001b[0m\n\u001b[1;32m    136\u001b[0m             \u001b[0;31m# Pylint doesn't recognize that this is valid in this case.\u001b[0m\u001b[0;34m\u001b[0m\u001b[0;34m\u001b[0m\u001b[0;34m\u001b[0m\u001b[0m\n\u001b[0;32m--> 137\u001b[0;31m             \u001b[0;32mraise\u001b[0m \u001b[0mself\u001b[0m\u001b[0;34m.\u001b[0m\u001b[0m_exception\u001b[0m\u001b[0;34m\u001b[0m\u001b[0;34m\u001b[0m\u001b[0m\n\u001b[0m\u001b[1;32m    138\u001b[0m \u001b[0;34m\u001b[0m\u001b[0m\n\u001b[1;32m    139\u001b[0m         \u001b[0;32mreturn\u001b[0m \u001b[0mself\u001b[0m\u001b[0;34m.\u001b[0m\u001b[0m_result\u001b[0m\u001b[0;34m\u001b[0m\u001b[0;34m\u001b[0m\u001b[0m\n",
      "\u001b[0;31mBadRequest\u001b[0m: 400 No matching signature for function DATE for argument types: FLOAT64. Supported signatures: DATE(TIMESTAMP, [STRING]); DATE(DATETIME); DATE(INT64, INT64, INT64); DATE(DATE); DATE(STRING) at [11:18]\n\n(job ID: b04f8b86-0c67-4c69-89f8-616d09fcb037)\n\n                                         -----Query Job SQL Follows-----                                         \n\n    |    .    |    .    |    .    |    .    |    .    |    .    |    .    |    .    |    .    |    .    |\n   1:\n   2:SELECT\n   3:  int64_field_45,\n   4:  EXTRACT(YEAR\n   5:  FROM\n   6:    PARSE_TIMESTAMP('%Y-%m-%d %H:%M:%S %Z', STRING(timestamp_field_0))) AS year,\n   7:  EXTRACT(MONTH\n   8:  FROM\n   9:    PARSE_TIMESTAMP('%Y-%m-%d %H:%M:%S %Z', STRING(timestamp_field_0))) AS month,\n  10:  SUM(double_field_14) AS sales,\n  11:  count(distinct(date(double_field_14) || int64_field_1 || int64_field_2 || int64_field_3)) as transactions,\n  12:  sum(CASE WHEN (string_field_8 = 'V' or string_field_8 = 'R') THEN -1 ELSE 1 END) as items\n  13:FROM\n  14:  `clean-wedge-files.Clean_Wedge.wedge_*`\n  15:WHERE int64_field_9 != 0 and\n  16:      int64_field_9 != 15 and\n  17:      string_field_8 != 'M' and\n  18:      string_field_8 != 'C' and\n  19:      string_field_8 != 'J' and\n  20:      (string_field_8 = '' or \n  21:      string_field_8 = ' ' or \n  22:      string_field_8 = 'V' or \n  23:      string_field_8 = 'R')\n  24:GROUP BY\n  25:  card_no,\n  26:  year,\n  27:  month\n  28:ORDER BY\n  29: card_no,\n  30:  year ASC,\n  31:  month ASC\n    |    .    |    .    |    .    |    .    |    .    |    .    |    .    |    .    |    .    |    .    |"
     ]
    }
   ],
   "source": [
    "# Send query to GBQ and export results as pandas data frame\n",
    "df_two = (\n",
    "    client.query(query_two)\n",
    "    .result()\n",
    "    .to_dataframe(\n",
    "        create_bqstorage_client=True,\n",
    "    )\n",
    ")\n",
    "\n",
    "# Open connection to (or create) database\n",
    "db = sqlite3.connect(\"WEDGEE.db\")\n",
    "\n",
    "# Export pandas dataframe to database\n",
    "df_two.to_sql(\"sales_owner_year_month\", db, if_exists=\"replace\")\n",
    "\n",
    "# Close database\n",
    "db.close()"
   ]
  },
  {
   "cell_type": "code",
   "execution_count": 15,
   "id": "9c4e02c2",
   "metadata": {},
   "outputs": [
    {
     "data": {
      "text/plain": [
       "Table(TableReference(DatasetReference('clean-wedge-files', 'Clean_Wedge'), 'dept_lookup'))"
      ]
     },
     "execution_count": 15,
     "metadata": {},
     "output_type": "execute_result"
    }
   ],
   "source": [
    "table_id = \"dept_lookup\"\n",
    "location_name = f\"{gbq_proj_id}.{gbq_dataset_id}.{table_id}\"\n",
    "\n",
    "client.create_table(location_name)"
   ]
  },
  {
   "cell_type": "code",
   "execution_count": 16,
   "id": "7ed2facb",
   "metadata": {},
   "outputs": [
    {
     "ename": "FileNotFoundError",
     "evalue": "[Errno 2] No such file or directory: 'dept_lookup.csv'",
     "output_type": "error",
     "traceback": [
      "\u001b[0;31m---------------------------------------------------------------------------\u001b[0m",
      "\u001b[0;31mFileNotFoundError\u001b[0m                         Traceback (most recent call last)",
      "\u001b[0;32m<ipython-input-16-1451d666661b>\u001b[0m in \u001b[0;36m<module>\u001b[0;34m\u001b[0m\n\u001b[1;32m     11\u001b[0m \u001b[0;34m\u001b[0m\u001b[0m\n\u001b[1;32m     12\u001b[0m \u001b[0;34m\u001b[0m\u001b[0m\n\u001b[0;32m---> 13\u001b[0;31m \u001b[0;32mwith\u001b[0m \u001b[0mopen\u001b[0m\u001b[0;34m(\u001b[0m\u001b[0mfilename\u001b[0m\u001b[0;34m,\u001b[0m \u001b[0;34m\"rb\"\u001b[0m\u001b[0;34m)\u001b[0m \u001b[0;32mas\u001b[0m \u001b[0msource_file\u001b[0m\u001b[0;34m:\u001b[0m\u001b[0;34m\u001b[0m\u001b[0;34m\u001b[0m\u001b[0m\n\u001b[0m\u001b[1;32m     14\u001b[0m     \u001b[0mjob\u001b[0m \u001b[0;34m=\u001b[0m \u001b[0mclient\u001b[0m\u001b[0;34m.\u001b[0m\u001b[0mload_table_from_file\u001b[0m\u001b[0;34m(\u001b[0m\u001b[0msource_file\u001b[0m\u001b[0;34m,\u001b[0m \u001b[0mtable_ref\u001b[0m\u001b[0;34m,\u001b[0m \u001b[0mjob_config\u001b[0m\u001b[0;34m=\u001b[0m\u001b[0mjob_config\u001b[0m\u001b[0;34m)\u001b[0m\u001b[0;34m\u001b[0m\u001b[0;34m\u001b[0m\u001b[0m\n",
      "\u001b[0;31mFileNotFoundError\u001b[0m: [Errno 2] No such file or directory: 'dept_lookup.csv'"
     ]
    }
   ],
   "source": [
    "filename = \"dept_lookup.csv\"\n",
    "\n",
    "dataset_ref = client.dataset(gbq_dataset_id)\n",
    "table_ref = dataset_ref.table(table_id)\n",
    "job_config = bigquery.LoadJobConfig()\n",
    "job_config.source_format = bigquery.SourceFormat.CSV\n",
    "job_config.autodetect = True\n",
    "job_config.schema = [\n",
    "    bigquery.SchemaField(\"dept_num\", \"FLOAT\", mode=\"NULLABLE\"),\n",
    "    bigquery.SchemaField(\"dept_name\", \"STRING\", mode=\"NULLABLE\")]\n",
    "\n",
    "\n",
    "with open(filename, \"rb\") as source_file:\n",
    "    job = client.load_table_from_file(source_file, table_ref, job_config=job_config)"
   ]
  },
  {
   "cell_type": "code",
   "execution_count": 17,
   "id": "bfe01292",
   "metadata": {},
   "outputs": [],
   "source": [
    "# Query for question 3 (sales by product by year by month):\n",
    "\n",
    "query_three = \"\"\"\n",
    "SELECT\n",
    "  string_field_4,\n",
    "  string_field_5,\n",
    "  int64_field_9,\n",
    "  dept_name,\n",
    "  EXTRACT(YEAR\n",
    "  FROM\n",
    "    PARSE_TIMESTAMP('%Y-%m-%d %H:%M:%S %Z', STRING(timestamp_field_0))) AS year,\n",
    "  EXTRACT(MONTH\n",
    "  FROM\n",
    "    PARSE_TIMESTAMP('%Y-%m-%d %H:%M:%S %Z', STRING(timestamp_field_0))) AS month,\n",
    "  SUM(total) AS sales,\n",
    "  count(distinct(date(datetime) || register_no || emp_no || trans_no)) as transactions,\n",
    "  sum(CASE WHEN (trans_status = 'V' or string_field_8 = 'R') THEN -1 ELSE 1 END) as items\n",
    "FROM\n",
    "  `clean-wedge-files.Clean_Wedge.wedge_*` as trans\n",
    "LEFT JOIN `evident-catcher-327918.wedge_master.dept_lookup` as dept ON dept.dept_num = trans.department\n",
    "WHERE string_field_9 != 0 and\n",
    "      string_field_9 != 15 and\n",
    "      string_field_8 != 'M' and\n",
    "      string_field_8 != 'C' and\n",
    "      string_field_8 != 'J' and\n",
    "      (string_field_8 = '' or \n",
    "      string_field_8 = ' ' or \n",
    "      string_field_8 = 'V' or \n",
    "      string_field_8 = 'R')\n",
    "GROUP BY\n",
    "  string_field_4,\n",
    "  string_field_5,\n",
    "  int64_field_9,\n",
    "  dept_name,\n",
    "  year,\n",
    "  month\n",
    "ORDER BY\n",
    "  string_field_5,\n",
    "  year ASC,\n",
    "  month ASC\n",
    "\"\"\""
   ]
  },
  {
   "cell_type": "code",
   "execution_count": 18,
   "id": "ebe7602e",
   "metadata": {},
   "outputs": [
    {
     "ename": "Forbidden",
     "evalue": "403 Access Denied: Table evident-catcher-327918:wedge_master.dept_lookup: User does not have permission to query table evident-catcher-327918:wedge_master.dept_lookup.\n\n(job ID: f4bd056d-bb4c-460b-b60e-1f0bd1c29326)\n\n                                      -----Query Job SQL Follows-----                                       \n\n    |    .    |    .    |    .    |    .    |    .    |    .    |    .    |    .    |    .    |    .    |\n   1:\n   2:SELECT\n   3:  string_field_4,\n   4:  string_field_5,\n   5:  int64_field_9,\n   6:  dept_name,\n   7:  EXTRACT(YEAR\n   8:  FROM\n   9:    PARSE_TIMESTAMP('%Y-%m-%d %H:%M:%S %Z', STRING(timestamp_field_0))) AS year,\n  10:  EXTRACT(MONTH\n  11:  FROM\n  12:    PARSE_TIMESTAMP('%Y-%m-%d %H:%M:%S %Z', STRING(timestamp_field_0))) AS month,\n  13:  SUM(total) AS sales,\n  14:  count(distinct(date(datetime) || register_no || emp_no || trans_no)) as transactions,\n  15:  sum(CASE WHEN (trans_status = 'V' or string_field_8 = 'R') THEN -1 ELSE 1 END) as items\n  16:FROM\n  17:  `clean-wedge-files.Clean_Wedge.wedge_*` as trans\n  18:LEFT JOIN `evident-catcher-327918.wedge_master.dept_lookup` as dept ON dept.dept_num = trans.department\n  19:WHERE string_field_9 != 0 and\n  20:      string_field_9 != 15 and\n  21:      string_field_8 != 'M' and\n  22:      string_field_8 != 'C' and\n  23:      string_field_8 != 'J' and\n  24:      (string_field_8 = '' or \n  25:      string_field_8 = ' ' or \n  26:      string_field_8 = 'V' or \n  27:      string_field_8 = 'R')\n  28:GROUP BY\n  29:  string_field_4,\n  30:  string_field_5,\n  31:  int64_field_9,\n  32:  dept_name,\n  33:  year,\n  34:  month\n  35:ORDER BY\n  36:  string_field_5,\n  37:  year ASC,\n  38:  month ASC\n    |    .    |    .    |    .    |    .    |    .    |    .    |    .    |    .    |    .    |    .    |",
     "output_type": "error",
     "traceback": [
      "\u001b[0;31m---------------------------------------------------------------------------\u001b[0m",
      "\u001b[0;31mForbidden\u001b[0m                                 Traceback (most recent call last)",
      "\u001b[0;32m<ipython-input-18-5d7f389910bf>\u001b[0m in \u001b[0;36m<module>\u001b[0;34m\u001b[0m\n\u001b[1;32m      1\u001b[0m df_three = (\n\u001b[0;32m----> 2\u001b[0;31m     \u001b[0mclient\u001b[0m\u001b[0;34m.\u001b[0m\u001b[0mquery\u001b[0m\u001b[0;34m(\u001b[0m\u001b[0mquery_three\u001b[0m\u001b[0;34m)\u001b[0m\u001b[0;34m\u001b[0m\u001b[0;34m\u001b[0m\u001b[0m\n\u001b[0m\u001b[1;32m      3\u001b[0m     \u001b[0;34m.\u001b[0m\u001b[0mresult\u001b[0m\u001b[0;34m(\u001b[0m\u001b[0;34m)\u001b[0m\u001b[0;34m\u001b[0m\u001b[0;34m\u001b[0m\u001b[0m\n\u001b[1;32m      4\u001b[0m     .to_dataframe(\n\u001b[1;32m      5\u001b[0m         \u001b[0mcreate_bqstorage_client\u001b[0m\u001b[0;34m=\u001b[0m\u001b[0;32mTrue\u001b[0m\u001b[0;34m,\u001b[0m\u001b[0;34m\u001b[0m\u001b[0;34m\u001b[0m\u001b[0m\n",
      "\u001b[0;32m~/Desktop/anaconda3/lib/python3.8/site-packages/google/cloud/bigquery/job/query.py\u001b[0m in \u001b[0;36mresult\u001b[0;34m(self, page_size, max_results, retry, timeout, start_index, job_retry)\u001b[0m\n\u001b[1;32m   1448\u001b[0m                 \u001b[0mdo_get_result\u001b[0m \u001b[0;34m=\u001b[0m \u001b[0mjob_retry\u001b[0m\u001b[0;34m(\u001b[0m\u001b[0mdo_get_result\u001b[0m\u001b[0;34m)\u001b[0m\u001b[0;34m\u001b[0m\u001b[0;34m\u001b[0m\u001b[0m\n\u001b[1;32m   1449\u001b[0m \u001b[0;34m\u001b[0m\u001b[0m\n\u001b[0;32m-> 1450\u001b[0;31m             \u001b[0mdo_get_result\u001b[0m\u001b[0;34m(\u001b[0m\u001b[0;34m)\u001b[0m\u001b[0;34m\u001b[0m\u001b[0;34m\u001b[0m\u001b[0m\n\u001b[0m\u001b[1;32m   1451\u001b[0m \u001b[0;34m\u001b[0m\u001b[0m\n\u001b[1;32m   1452\u001b[0m         \u001b[0;32mexcept\u001b[0m \u001b[0mexceptions\u001b[0m\u001b[0;34m.\u001b[0m\u001b[0mGoogleAPICallError\u001b[0m \u001b[0;32mas\u001b[0m \u001b[0mexc\u001b[0m\u001b[0;34m:\u001b[0m\u001b[0;34m\u001b[0m\u001b[0;34m\u001b[0m\u001b[0m\n",
      "\u001b[0;32m~/Desktop/anaconda3/lib/python3.8/site-packages/google/api_core/retry.py\u001b[0m in \u001b[0;36mretry_wrapped_func\u001b[0;34m(*args, **kwargs)\u001b[0m\n\u001b[1;32m    281\u001b[0m                 \u001b[0mself\u001b[0m\u001b[0;34m.\u001b[0m\u001b[0m_initial\u001b[0m\u001b[0;34m,\u001b[0m \u001b[0mself\u001b[0m\u001b[0;34m.\u001b[0m\u001b[0m_maximum\u001b[0m\u001b[0;34m,\u001b[0m \u001b[0mmultiplier\u001b[0m\u001b[0;34m=\u001b[0m\u001b[0mself\u001b[0m\u001b[0;34m.\u001b[0m\u001b[0m_multiplier\u001b[0m\u001b[0;34m\u001b[0m\u001b[0;34m\u001b[0m\u001b[0m\n\u001b[1;32m    282\u001b[0m             )\n\u001b[0;32m--> 283\u001b[0;31m             return retry_target(\n\u001b[0m\u001b[1;32m    284\u001b[0m                 \u001b[0mtarget\u001b[0m\u001b[0;34m,\u001b[0m\u001b[0;34m\u001b[0m\u001b[0;34m\u001b[0m\u001b[0m\n\u001b[1;32m    285\u001b[0m                 \u001b[0mself\u001b[0m\u001b[0;34m.\u001b[0m\u001b[0m_predicate\u001b[0m\u001b[0;34m,\u001b[0m\u001b[0;34m\u001b[0m\u001b[0;34m\u001b[0m\u001b[0m\n",
      "\u001b[0;32m~/Desktop/anaconda3/lib/python3.8/site-packages/google/api_core/retry.py\u001b[0m in \u001b[0;36mretry_target\u001b[0;34m(target, predicate, sleep_generator, deadline, on_error)\u001b[0m\n\u001b[1;32m    188\u001b[0m     \u001b[0;32mfor\u001b[0m \u001b[0msleep\u001b[0m \u001b[0;32min\u001b[0m \u001b[0msleep_generator\u001b[0m\u001b[0;34m:\u001b[0m\u001b[0;34m\u001b[0m\u001b[0;34m\u001b[0m\u001b[0m\n\u001b[1;32m    189\u001b[0m         \u001b[0;32mtry\u001b[0m\u001b[0;34m:\u001b[0m\u001b[0;34m\u001b[0m\u001b[0;34m\u001b[0m\u001b[0m\n\u001b[0;32m--> 190\u001b[0;31m             \u001b[0;32mreturn\u001b[0m \u001b[0mtarget\u001b[0m\u001b[0;34m(\u001b[0m\u001b[0;34m)\u001b[0m\u001b[0;34m\u001b[0m\u001b[0;34m\u001b[0m\u001b[0m\n\u001b[0m\u001b[1;32m    191\u001b[0m \u001b[0;34m\u001b[0m\u001b[0m\n\u001b[1;32m    192\u001b[0m         \u001b[0;31m# pylint: disable=broad-except\u001b[0m\u001b[0;34m\u001b[0m\u001b[0;34m\u001b[0m\u001b[0;34m\u001b[0m\u001b[0m\n",
      "\u001b[0;32m~/Desktop/anaconda3/lib/python3.8/site-packages/google/cloud/bigquery/job/query.py\u001b[0m in \u001b[0;36mdo_get_result\u001b[0;34m()\u001b[0m\n\u001b[1;32m   1438\u001b[0m                     \u001b[0mself\u001b[0m\u001b[0;34m.\u001b[0m\u001b[0m_job_retry\u001b[0m \u001b[0;34m=\u001b[0m \u001b[0mjob_retry\u001b[0m\u001b[0;34m\u001b[0m\u001b[0;34m\u001b[0m\u001b[0m\n\u001b[1;32m   1439\u001b[0m \u001b[0;34m\u001b[0m\u001b[0m\n\u001b[0;32m-> 1440\u001b[0;31m                 \u001b[0msuper\u001b[0m\u001b[0;34m(\u001b[0m\u001b[0mQueryJob\u001b[0m\u001b[0;34m,\u001b[0m \u001b[0mself\u001b[0m\u001b[0;34m)\u001b[0m\u001b[0;34m.\u001b[0m\u001b[0mresult\u001b[0m\u001b[0;34m(\u001b[0m\u001b[0mretry\u001b[0m\u001b[0;34m=\u001b[0m\u001b[0mretry\u001b[0m\u001b[0;34m,\u001b[0m \u001b[0mtimeout\u001b[0m\u001b[0;34m=\u001b[0m\u001b[0mtimeout\u001b[0m\u001b[0;34m)\u001b[0m\u001b[0;34m\u001b[0m\u001b[0;34m\u001b[0m\u001b[0m\n\u001b[0m\u001b[1;32m   1441\u001b[0m \u001b[0;34m\u001b[0m\u001b[0m\n\u001b[1;32m   1442\u001b[0m                 \u001b[0;31m# Since the job could already be \"done\" (e.g. got a finished job\u001b[0m\u001b[0;34m\u001b[0m\u001b[0;34m\u001b[0m\u001b[0;34m\u001b[0m\u001b[0m\n",
      "\u001b[0;32m~/Desktop/anaconda3/lib/python3.8/site-packages/google/cloud/bigquery/job/base.py\u001b[0m in \u001b[0;36mresult\u001b[0;34m(self, retry, timeout)\u001b[0m\n\u001b[1;32m    725\u001b[0m \u001b[0;34m\u001b[0m\u001b[0m\n\u001b[1;32m    726\u001b[0m         \u001b[0mkwargs\u001b[0m \u001b[0;34m=\u001b[0m \u001b[0;34m{\u001b[0m\u001b[0;34m}\u001b[0m \u001b[0;32mif\u001b[0m \u001b[0mretry\u001b[0m \u001b[0;32mis\u001b[0m \u001b[0mDEFAULT_RETRY\u001b[0m \u001b[0;32melse\u001b[0m \u001b[0;34m{\u001b[0m\u001b[0;34m\"retry\"\u001b[0m\u001b[0;34m:\u001b[0m \u001b[0mretry\u001b[0m\u001b[0;34m}\u001b[0m\u001b[0;34m\u001b[0m\u001b[0;34m\u001b[0m\u001b[0m\n\u001b[0;32m--> 727\u001b[0;31m         \u001b[0;32mreturn\u001b[0m \u001b[0msuper\u001b[0m\u001b[0;34m(\u001b[0m\u001b[0m_AsyncJob\u001b[0m\u001b[0;34m,\u001b[0m \u001b[0mself\u001b[0m\u001b[0;34m)\u001b[0m\u001b[0;34m.\u001b[0m\u001b[0mresult\u001b[0m\u001b[0;34m(\u001b[0m\u001b[0mtimeout\u001b[0m\u001b[0;34m=\u001b[0m\u001b[0mtimeout\u001b[0m\u001b[0;34m,\u001b[0m \u001b[0;34m**\u001b[0m\u001b[0mkwargs\u001b[0m\u001b[0;34m)\u001b[0m\u001b[0;34m\u001b[0m\u001b[0;34m\u001b[0m\u001b[0m\n\u001b[0m\u001b[1;32m    728\u001b[0m \u001b[0;34m\u001b[0m\u001b[0m\n\u001b[1;32m    729\u001b[0m     \u001b[0;32mdef\u001b[0m \u001b[0mcancelled\u001b[0m\u001b[0;34m(\u001b[0m\u001b[0mself\u001b[0m\u001b[0;34m)\u001b[0m\u001b[0;34m:\u001b[0m\u001b[0;34m\u001b[0m\u001b[0;34m\u001b[0m\u001b[0m\n",
      "\u001b[0;32m~/Desktop/anaconda3/lib/python3.8/site-packages/google/api_core/future/polling.py\u001b[0m in \u001b[0;36mresult\u001b[0;34m(self, timeout, retry)\u001b[0m\n\u001b[1;32m    135\u001b[0m             \u001b[0;31m# pylint: disable=raising-bad-type\u001b[0m\u001b[0;34m\u001b[0m\u001b[0;34m\u001b[0m\u001b[0;34m\u001b[0m\u001b[0m\n\u001b[1;32m    136\u001b[0m             \u001b[0;31m# Pylint doesn't recognize that this is valid in this case.\u001b[0m\u001b[0;34m\u001b[0m\u001b[0;34m\u001b[0m\u001b[0;34m\u001b[0m\u001b[0m\n\u001b[0;32m--> 137\u001b[0;31m             \u001b[0;32mraise\u001b[0m \u001b[0mself\u001b[0m\u001b[0;34m.\u001b[0m\u001b[0m_exception\u001b[0m\u001b[0;34m\u001b[0m\u001b[0;34m\u001b[0m\u001b[0m\n\u001b[0m\u001b[1;32m    138\u001b[0m \u001b[0;34m\u001b[0m\u001b[0m\n\u001b[1;32m    139\u001b[0m         \u001b[0;32mreturn\u001b[0m \u001b[0mself\u001b[0m\u001b[0;34m.\u001b[0m\u001b[0m_result\u001b[0m\u001b[0;34m\u001b[0m\u001b[0;34m\u001b[0m\u001b[0m\n",
      "\u001b[0;31mForbidden\u001b[0m: 403 Access Denied: Table evident-catcher-327918:wedge_master.dept_lookup: User does not have permission to query table evident-catcher-327918:wedge_master.dept_lookup.\n\n(job ID: f4bd056d-bb4c-460b-b60e-1f0bd1c29326)\n\n                                      -----Query Job SQL Follows-----                                       \n\n    |    .    |    .    |    .    |    .    |    .    |    .    |    .    |    .    |    .    |    .    |\n   1:\n   2:SELECT\n   3:  string_field_4,\n   4:  string_field_5,\n   5:  int64_field_9,\n   6:  dept_name,\n   7:  EXTRACT(YEAR\n   8:  FROM\n   9:    PARSE_TIMESTAMP('%Y-%m-%d %H:%M:%S %Z', STRING(timestamp_field_0))) AS year,\n  10:  EXTRACT(MONTH\n  11:  FROM\n  12:    PARSE_TIMESTAMP('%Y-%m-%d %H:%M:%S %Z', STRING(timestamp_field_0))) AS month,\n  13:  SUM(total) AS sales,\n  14:  count(distinct(date(datetime) || register_no || emp_no || trans_no)) as transactions,\n  15:  sum(CASE WHEN (trans_status = 'V' or string_field_8 = 'R') THEN -1 ELSE 1 END) as items\n  16:FROM\n  17:  `clean-wedge-files.Clean_Wedge.wedge_*` as trans\n  18:LEFT JOIN `evident-catcher-327918.wedge_master.dept_lookup` as dept ON dept.dept_num = trans.department\n  19:WHERE string_field_9 != 0 and\n  20:      string_field_9 != 15 and\n  21:      string_field_8 != 'M' and\n  22:      string_field_8 != 'C' and\n  23:      string_field_8 != 'J' and\n  24:      (string_field_8 = '' or \n  25:      string_field_8 = ' ' or \n  26:      string_field_8 = 'V' or \n  27:      string_field_8 = 'R')\n  28:GROUP BY\n  29:  string_field_4,\n  30:  string_field_5,\n  31:  int64_field_9,\n  32:  dept_name,\n  33:  year,\n  34:  month\n  35:ORDER BY\n  36:  string_field_5,\n  37:  year ASC,\n  38:  month ASC\n    |    .    |    .    |    .    |    .    |    .    |    .    |    .    |    .    |    .    |    .    |"
     ]
    }
   ],
   "source": [
    "df_three = (\n",
    "    client.query(query_three)\n",
    "    .result()\n",
    "    .to_dataframe(\n",
    "        create_bqstorage_client=True,\n",
    "    )\n",
    ")\n",
    "\n",
    "# Open connection to (or create) database\n",
    "db = sqlite3.connect(\"WEDGEE.db\")\n",
    "\n",
    "# Export pandas dataframe to database\n",
    "df_three.to_sql(\"sales_product_year_month\", db, if_exists=\"replace\")\n",
    "\n",
    "# Close database\n",
    "db.close()"
   ]
  },
  {
   "cell_type": "code",
   "execution_count": null,
   "id": "9605508c",
   "metadata": {},
   "outputs": [],
   "source": []
  }
 ],
 "metadata": {
  "kernelspec": {
   "display_name": "Python 3",
   "language": "python",
   "name": "python3"
  },
  "language_info": {
   "codemirror_mode": {
    "name": "ipython",
    "version": 3
   },
   "file_extension": ".py",
   "mimetype": "text/x-python",
   "name": "python",
   "nbconvert_exporter": "python",
   "pygments_lexer": "ipython3",
   "version": "3.8.8"
  }
 },
 "nbformat": 4,
 "nbformat_minor": 5
}
